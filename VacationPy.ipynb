{
 "cells": [
  {
   "cell_type": "markdown",
   "metadata": {},
   "source": [
    "# VacationPy\n",
    "----\n",
    "\n",
    "#### Note\n",
    "* Keep an eye on your API usage. Use https://developers.google.com/maps/reporting/gmp-reporting as reference for how to monitor your usage and billing.\n",
    "\n",
    "* Instructions have been included for each segment. You do not have to follow them exactly, but they are included to help you think through the steps."
   ]
  },
  {
   "cell_type": "code",
   "execution_count": 1,
   "metadata": {},
   "outputs": [],
   "source": [
    "# Dependencies and Setup\n",
    "import matplotlib.pyplot as plt\n",
    "import pandas as pd\n",
    "import numpy as np\n",
    "import requests\n",
    "import gmaps\n",
    "import os\n",
    "\n",
    "# Import API key\n",
    "from api_keys import g_key"
   ]
  },
  {
   "cell_type": "markdown",
   "metadata": {},
   "source": [
    "### Store Part I results into DataFrame\n",
    "* Load the csv exported in Part I to a DataFrame"
   ]
  },
  {
   "cell_type": "code",
   "execution_count": 2,
   "metadata": {},
   "outputs": [
    {
     "data": {
      "text/html": [
       "<div>\n",
       "<style scoped>\n",
       "    .dataframe tbody tr th:only-of-type {\n",
       "        vertical-align: middle;\n",
       "    }\n",
       "\n",
       "    .dataframe tbody tr th {\n",
       "        vertical-align: top;\n",
       "    }\n",
       "\n",
       "    .dataframe thead th {\n",
       "        text-align: right;\n",
       "    }\n",
       "</style>\n",
       "<table border=\"1\" class=\"dataframe\">\n",
       "  <thead>\n",
       "    <tr style=\"text-align: right;\">\n",
       "      <th></th>\n",
       "      <th>Unnamed: 0</th>\n",
       "      <th>city</th>\n",
       "      <th>lng</th>\n",
       "      <th>lat</th>\n",
       "      <th>max temp</th>\n",
       "      <th>humidity</th>\n",
       "      <th>cloudiness</th>\n",
       "      <th>wind speed</th>\n",
       "      <th>country</th>\n",
       "      <th>date</th>\n",
       "    </tr>\n",
       "  </thead>\n",
       "  <tbody>\n",
       "    <tr>\n",
       "      <th>0</th>\n",
       "      <td>0</td>\n",
       "      <td>Atuona</td>\n",
       "      <td>-139.0333</td>\n",
       "      <td>-9.8000</td>\n",
       "      <td>77.36</td>\n",
       "      <td>67</td>\n",
       "      <td>14</td>\n",
       "      <td>17.63</td>\n",
       "      <td>PF</td>\n",
       "      <td>1627519172</td>\n",
       "    </tr>\n",
       "    <tr>\n",
       "      <th>1</th>\n",
       "      <td>1</td>\n",
       "      <td>New Norfolk</td>\n",
       "      <td>147.0587</td>\n",
       "      <td>-42.7826</td>\n",
       "      <td>50.72</td>\n",
       "      <td>61</td>\n",
       "      <td>97</td>\n",
       "      <td>8.50</td>\n",
       "      <td>AU</td>\n",
       "      <td>1627519173</td>\n",
       "    </tr>\n",
       "    <tr>\n",
       "      <th>2</th>\n",
       "      <td>2</td>\n",
       "      <td>St. George's</td>\n",
       "      <td>-61.7485</td>\n",
       "      <td>12.0564</td>\n",
       "      <td>80.28</td>\n",
       "      <td>83</td>\n",
       "      <td>40</td>\n",
       "      <td>20.71</td>\n",
       "      <td>GD</td>\n",
       "      <td>1627519173</td>\n",
       "    </tr>\n",
       "    <tr>\n",
       "      <th>3</th>\n",
       "      <td>3</td>\n",
       "      <td>Den Helder</td>\n",
       "      <td>4.7593</td>\n",
       "      <td>52.9599</td>\n",
       "      <td>61.99</td>\n",
       "      <td>81</td>\n",
       "      <td>90</td>\n",
       "      <td>19.57</td>\n",
       "      <td>NL</td>\n",
       "      <td>1627519173</td>\n",
       "    </tr>\n",
       "    <tr>\n",
       "      <th>4</th>\n",
       "      <td>4</td>\n",
       "      <td>Lázaro Cárdenas</td>\n",
       "      <td>-102.2000</td>\n",
       "      <td>17.9583</td>\n",
       "      <td>82.40</td>\n",
       "      <td>75</td>\n",
       "      <td>91</td>\n",
       "      <td>3.91</td>\n",
       "      <td>MX</td>\n",
       "      <td>1627519174</td>\n",
       "    </tr>\n",
       "    <tr>\n",
       "      <th>...</th>\n",
       "      <td>...</td>\n",
       "      <td>...</td>\n",
       "      <td>...</td>\n",
       "      <td>...</td>\n",
       "      <td>...</td>\n",
       "      <td>...</td>\n",
       "      <td>...</td>\n",
       "      <td>...</td>\n",
       "      <td>...</td>\n",
       "      <td>...</td>\n",
       "    </tr>\n",
       "    <tr>\n",
       "      <th>568</th>\n",
       "      <td>568</td>\n",
       "      <td>Severnyy</td>\n",
       "      <td>36.5532</td>\n",
       "      <td>50.6770</td>\n",
       "      <td>69.84</td>\n",
       "      <td>78</td>\n",
       "      <td>0</td>\n",
       "      <td>2.24</td>\n",
       "      <td>RU</td>\n",
       "      <td>1627519348</td>\n",
       "    </tr>\n",
       "    <tr>\n",
       "      <th>569</th>\n",
       "      <td>569</td>\n",
       "      <td>Hadejia</td>\n",
       "      <td>10.0444</td>\n",
       "      <td>12.4498</td>\n",
       "      <td>72.01</td>\n",
       "      <td>87</td>\n",
       "      <td>99</td>\n",
       "      <td>2.91</td>\n",
       "      <td>NG</td>\n",
       "      <td>1627519349</td>\n",
       "    </tr>\n",
       "    <tr>\n",
       "      <th>570</th>\n",
       "      <td>570</td>\n",
       "      <td>Udachny</td>\n",
       "      <td>112.4000</td>\n",
       "      <td>66.4167</td>\n",
       "      <td>76.06</td>\n",
       "      <td>49</td>\n",
       "      <td>20</td>\n",
       "      <td>11.50</td>\n",
       "      <td>RU</td>\n",
       "      <td>1627519330</td>\n",
       "    </tr>\n",
       "    <tr>\n",
       "      <th>571</th>\n",
       "      <td>571</td>\n",
       "      <td>Tikrit</td>\n",
       "      <td>43.6782</td>\n",
       "      <td>34.6071</td>\n",
       "      <td>87.24</td>\n",
       "      <td>22</td>\n",
       "      <td>0</td>\n",
       "      <td>6.29</td>\n",
       "      <td>IQ</td>\n",
       "      <td>1627519349</td>\n",
       "    </tr>\n",
       "    <tr>\n",
       "      <th>572</th>\n",
       "      <td>572</td>\n",
       "      <td>Calahorra</td>\n",
       "      <td>-1.9652</td>\n",
       "      <td>42.3051</td>\n",
       "      <td>66.11</td>\n",
       "      <td>82</td>\n",
       "      <td>0</td>\n",
       "      <td>5.77</td>\n",
       "      <td>ES</td>\n",
       "      <td>1627519349</td>\n",
       "    </tr>\n",
       "  </tbody>\n",
       "</table>\n",
       "<p>573 rows × 10 columns</p>\n",
       "</div>"
      ],
      "text/plain": [
       "     Unnamed: 0             city       lng      lat  max temp  humidity  \\\n",
       "0             0           Atuona -139.0333  -9.8000     77.36        67   \n",
       "1             1      New Norfolk  147.0587 -42.7826     50.72        61   \n",
       "2             2     St. George's  -61.7485  12.0564     80.28        83   \n",
       "3             3       Den Helder    4.7593  52.9599     61.99        81   \n",
       "4             4  Lázaro Cárdenas -102.2000  17.9583     82.40        75   \n",
       "..          ...              ...       ...      ...       ...       ...   \n",
       "568         568         Severnyy   36.5532  50.6770     69.84        78   \n",
       "569         569          Hadejia   10.0444  12.4498     72.01        87   \n",
       "570         570          Udachny  112.4000  66.4167     76.06        49   \n",
       "571         571           Tikrit   43.6782  34.6071     87.24        22   \n",
       "572         572        Calahorra   -1.9652  42.3051     66.11        82   \n",
       "\n",
       "     cloudiness  wind speed country        date  \n",
       "0            14       17.63      PF  1627519172  \n",
       "1            97        8.50      AU  1627519173  \n",
       "2            40       20.71      GD  1627519173  \n",
       "3            90       19.57      NL  1627519173  \n",
       "4            91        3.91      MX  1627519174  \n",
       "..          ...         ...     ...         ...  \n",
       "568           0        2.24      RU  1627519348  \n",
       "569          99        2.91      NG  1627519349  \n",
       "570          20       11.50      RU  1627519330  \n",
       "571           0        6.29      IQ  1627519349  \n",
       "572           0        5.77      ES  1627519349  \n",
       "\n",
       "[573 rows x 10 columns]"
      ]
     },
     "execution_count": 2,
     "metadata": {},
     "output_type": "execute_result"
    }
   ],
   "source": [
    "city_df = pd.read_csv('cities.csv')\n",
    "city_df"
   ]
  },
  {
   "cell_type": "markdown",
   "metadata": {},
   "source": [
    "### Humidity Heatmap\n",
    "* Configure gmaps.\n",
    "* Use the Lat and Lng as locations and Humidity as the weight.\n",
    "* Add Heatmap layer to map."
   ]
  },
  {
   "cell_type": "code",
   "execution_count": 3,
   "metadata": {},
   "outputs": [],
   "source": [
    "gmaps.configure(api_key = g_key)"
   ]
  },
  {
   "cell_type": "code",
   "execution_count": 4,
   "metadata": {},
   "outputs": [
    {
     "data": {
      "application/vnd.jupyter.widget-view+json": {
       "model_id": "36c23f1035c7447c91f16d4256c0a6d8",
       "version_major": 2,
       "version_minor": 0
      },
      "text/plain": [
       "Figure(layout=FigureLayout(height='420px'))"
      ]
     },
     "metadata": {},
     "output_type": "display_data"
    }
   ],
   "source": [
    "locations = city_df[['lat', 'lng']]\n",
    "humidity = city_df['humidity']\n",
    "\n",
    "figure = gmaps.figure()\n",
    "heat_layer = gmaps.heatmap_layer(locations, weights=humidity, dissipating = False)\n",
    "heat_layer.max_intensity = 100\n",
    "heat_layer.point_radius = 5\n",
    "\n",
    "figure.add_layer(heat_layer)\n",
    "figure"
   ]
  },
  {
   "cell_type": "markdown",
   "metadata": {},
   "source": [
    "### Create new DataFrame fitting weather criteria\n",
    "* Narrow down the cities to fit weather conditions.\n",
    "* Drop any rows will null values."
   ]
  },
  {
   "cell_type": "code",
   "execution_count": 13,
   "metadata": {},
   "outputs": [
    {
     "data": {
      "application/vnd.jupyter.widget-view+json": {
       "model_id": "6b5581c33f214b78ab37f0cb9b0da404",
       "version_major": 2,
       "version_minor": 0
      },
      "text/plain": [
       "Figure(layout=FigureLayout(height='420px'))"
      ]
     },
     "metadata": {},
     "output_type": "display_data"
    }
   ],
   "source": [
    "# Use Latitude and Longitude as the locations, and humidity as weights for the heat layer\n",
    "locations = city_df[['lat', 'lng']]\n",
    "humidity = city_df[['humidity']].astype(float)\n",
    "\n",
    "# Plot Heatmap\n",
    "fig = gmaps.figure()\n",
    "\n",
    "# Add layer\n",
    "fig.add_layer(heat_layer)\n",
    "\n",
    "# Display figure\n",
    "fig"
   ]
  },
  {
   "cell_type": "markdown",
   "metadata": {},
   "source": [
    "### Hotel Map\n",
    "* Store into variable named `hotel_df`.\n",
    "* Add a \"Hotel Name\" column to the DataFrame.\n",
    "* Set parameters to search for hotels with 5000 meters.\n",
    "* Hit the Google Places API for each city's coordinates.\n",
    "* Store the first Hotel result into the DataFrame.\n",
    "* Plot markers on top of the heatmap."
   ]
  },
  {
   "cell_type": "code",
   "execution_count": null,
   "metadata": {},
   "outputs": [],
   "source": [
    "# Create search list with converted latitude and Longitude\n",
    "hotel_df = city_df['lat'].tolist()\n",
    "hotel_df = city_df['lng'].tolist()\n",
    "hotel_lst = []\n",
    "\n",
    "# Gather first hotel tfor each cities\n",
    "for i in range(len(hotel_df)):\n",
    "    target_coordinates = f'{'lat[i]'}, {'lng[i]'}'\n",
    "    target_search = 'hotel'\n",
    "    target_type = 'hotel'\n",
    "    target_radius = 5000\n",
    "\n",
    "      # Set up a parameters dictionary\n",
    "    params = {\n",
    "        'location': target_coordinates,\n",
    "        'types': target_type,\n",
    "        'keyword': target_search,\n",
    "        'radius': target_radius,\n",
    "        'key': g_key\n",
    "    }\n",
    "    \n",
    "    base_url = \"https://maps.googleapis.com/maps/api/place/nearbysearch/json\"\n",
    "    \n",
    "    # Apply the try and except block, code won't stop when no hotel isn't available\n",
    "    \n",
    "    try:\n",
    "        \n",
    "        # Run a request using params dictionary\n",
    "        response = requests.get(base_url, params=params).json()\n",
    "        hotel_lst.append(response['results'][0]['name'])\n",
    "    \n",
    "    except:\n",
    "        \n",
    "        # Append the string to indicate no hotel was found\n",
    "        hotel_lst.append('NO HOTEL FOUND')\n",
    "\n",
    "# After the loop, add the hotel list as a column in the dataframe\n",
    "hotel_df['Hotel Name'] = hotel_lst"
   ]
  },
  {
   "cell_type": "code",
   "execution_count": null,
   "metadata": {},
   "outputs": [],
   "source": [
    "hotel_df"
   ]
  },
  {
   "cell_type": "code",
   "execution_count": 5,
   "metadata": {},
   "outputs": [
    {
     "ename": "NameError",
     "evalue": "name 'hotel_df' is not defined",
     "output_type": "error",
     "traceback": [
      "\u001b[1;31m---------------------------------------------------------------------------\u001b[0m",
      "\u001b[1;31mNameError\u001b[0m                                 Traceback (most recent call last)",
      "\u001b[1;32m<ipython-input-5-464b2b3e63ad>\u001b[0m in \u001b[0;36m<module>\u001b[1;34m\u001b[0m\n\u001b[0;32m     11\u001b[0m \u001b[1;31m# Store the DataFrame Row\u001b[0m\u001b[1;33m\u001b[0m\u001b[1;33m\u001b[0m\u001b[1;33m\u001b[0m\u001b[0m\n\u001b[0;32m     12\u001b[0m \u001b[1;31m# NOTE: be sure to update with your DataFrame name\u001b[0m\u001b[1;33m\u001b[0m\u001b[1;33m\u001b[0m\u001b[1;33m\u001b[0m\u001b[0m\n\u001b[1;32m---> 13\u001b[1;33m \u001b[0mhotel_info\u001b[0m \u001b[1;33m=\u001b[0m \u001b[1;33m[\u001b[0m\u001b[0minfo_box_template\u001b[0m\u001b[1;33m.\u001b[0m\u001b[0mformat\u001b[0m\u001b[1;33m(\u001b[0m\u001b[1;33m**\u001b[0m\u001b[0mrow\u001b[0m\u001b[1;33m)\u001b[0m \u001b[1;32mfor\u001b[0m \u001b[0mindex\u001b[0m\u001b[1;33m,\u001b[0m \u001b[0mrow\u001b[0m \u001b[1;32min\u001b[0m \u001b[0mhotel_df\u001b[0m\u001b[1;33m.\u001b[0m\u001b[0miterrows\u001b[0m\u001b[1;33m(\u001b[0m\u001b[1;33m)\u001b[0m\u001b[1;33m]\u001b[0m\u001b[1;33m\u001b[0m\u001b[1;33m\u001b[0m\u001b[0m\n\u001b[0m\u001b[0;32m     14\u001b[0m \u001b[0mlocations\u001b[0m \u001b[1;33m=\u001b[0m \u001b[0mhotel_df\u001b[0m\u001b[1;33m[\u001b[0m\u001b[1;33m[\u001b[0m\u001b[1;34m\"Lat\"\u001b[0m\u001b[1;33m,\u001b[0m \u001b[1;34m\"Lng\"\u001b[0m\u001b[1;33m]\u001b[0m\u001b[1;33m]\u001b[0m\u001b[1;33m\u001b[0m\u001b[1;33m\u001b[0m\u001b[0m\n",
      "\u001b[1;31mNameError\u001b[0m: name 'hotel_df' is not defined"
     ]
    }
   ],
   "source": [
    "# NOTE: Do not change any of the code in this cell\n",
    "\n",
    "# Using the template add the hotel marks to the heatmap\n",
    "info_box_template = \"\"\"\n",
    "<dl>\n",
    "<dt>Name</dt><dd>{Hotel Name}</dd>\n",
    "<dt>City</dt><dd>{City}</dd>\n",
    "<dt>Country</dt><dd>{Country}</dd>\n",
    "</dl>\n",
    "\"\"\"\n",
    "# Store the DataFrame Row\n",
    "# NOTE: be sure to update with your DataFrame name\n",
    "hotel_info = [info_box_template.format(**row) for index, row in hotel_df.iterrows()]\n",
    "locations = hotel_df[[\"Lat\", \"Lng\"]]"
   ]
  },
  {
   "cell_type": "code",
   "execution_count": null,
   "metadata": {},
   "outputs": [],
   "source": []
  }
 ],
 "metadata": {
  "kernelspec": {
   "display_name": "Python 3",
   "language": "python",
   "name": "python3"
  },
  "language_info": {
   "codemirror_mode": {
    "name": "ipython",
    "version": 3
   },
   "file_extension": ".py",
   "mimetype": "text/x-python",
   "name": "python",
   "nbconvert_exporter": "python",
   "pygments_lexer": "ipython3",
   "version": "3.8.8"
  },
  "latex_envs": {
   "LaTeX_envs_menu_present": true,
   "autoclose": false,
   "autocomplete": true,
   "bibliofile": "biblio.bib",
   "cite_by": "apalike",
   "current_citInitial": 1,
   "eqLabelWithNumbers": true,
   "eqNumInitial": 1,
   "hotkeys": {
    "equation": "Ctrl-E",
    "itemize": "Ctrl-I"
   },
   "labels_anchors": false,
   "latex_user_defs": false,
   "report_style_numbering": false,
   "user_envs_cfg": false
  }
 },
 "nbformat": 4,
 "nbformat_minor": 4
}
